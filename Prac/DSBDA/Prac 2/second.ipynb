{
 "cells": [
  {
   "cell_type": "code",
   "execution_count": 2,
   "metadata": {},
   "outputs": [],
   "source": [
    "import pandas as pd \n",
    "import numpy as np\n",
    "import seaborn as sns"
   ]
  },
  {
   "cell_type": "code",
   "execution_count": 3,
   "metadata": {},
   "outputs": [
    {
     "name": "stdout",
     "output_type": "stream",
     "text": [
      "   Timestamp       Email Address                                Name   \n",
      "0          0  1/17/2022 12:45:09       sejal.zambare19@pccoepune.org  \\\n",
      "1          1  1/17/2022 12:45:44    rushikesh.thorat19@pccoepune.org   \n",
      "2          2  1/17/2022 12:46:10     atharv.sontakke19@pccoepune.org   \n",
      "3          3  1/17/2022 12:46:21     amisha.sherekar19@pccoepune.org   \n",
      "4          4  1/17/2022 12:46:31  saurabh.sawardekar19@pccoepune.org   \n",
      "5         59   1/20/2022 9:24:40      pratik.meshram20@pccoepune.org   \n",
      "6         60   1/20/2022 9:36:14         prasad.zore19@pccoepune.org   \n",
      "7         61   1/20/2022 9:42:34         sudhir.varu19@pccoepune.org   \n",
      "\n",
      "                     Email                             Roll no   PRN No.   \n",
      "0            Sejal Zambare           sejal.zambare19@gmail.com  TECOC359  \\\n",
      "1   Rushikesh Vilas Thorat    rushikesh.thorat19@pccoepune.org  TECOC347   \n",
      "2          Atharv Sontakke         atharv123sontakke@gmail.com  TECOC340   \n",
      "3    Amisha Sunil Sherekar     amisha.sherekar19@pccoepune.org  TECOC328   \n",
      "4  Saurabh Raju Sawardekar  saurabh.sawardekar19@pccoepune.org  TECOC326   \n",
      "5     Pratik Amrut Meshram      pratik.meshram20@pccoepune.org  TECOC381   \n",
      "6              Prasad Zore             prasad.zore@outlook.com  TECOC360   \n",
      "7              SUDHIR VARU              sudhirvaru01@gmail.com  TECOC351   \n",
      "\n",
      "  Mobile No.  First year: Sem 1  First year: Sem 2  Second year: Sem 1   \n",
      "0  72026841K         8208217782               8.40                8.60  \\\n",
      "1  72026776F         9021261925               8.14                8.14   \n",
      "2  72026742M         9009804629               6.61                6.61   \n",
      "3  72026696D         8698227548               7.20                7.30   \n",
      "4  72026682D         7774072850               7.05                7.45   \n",
      "5  72164278M         7666479857               0.00                0.00   \n",
      "6  72026843F         7387645749               8.31                8.27   \n",
      "7  72026799E         9657017250               8.31                8.42   \n",
      "\n",
      "   Second year: Sem 2  Unnamed: 11  \n",
      "0                9.80         9.90  \n",
      "1                9.32         9.82  \n",
      "2                9.14         9.14  \n",
      "3                8.90         9.20  \n",
      "4                9.05         9.40  \n",
      "5                9.09         9.36  \n",
      "6                9.45         9.77  \n",
      "7                8.53         8.64  \n"
     ]
    }
   ],
   "source": [
    "data = pd.read_csv(\"Student.csv\")\n",
    "print(data)"
   ]
  },
  {
   "cell_type": "code",
   "execution_count": 4,
   "metadata": {},
   "outputs": [
    {
     "name": "stdout",
     "output_type": "stream",
     "text": [
      "<class 'pandas.core.frame.DataFrame'>\n",
      "RangeIndex: 8 entries, 0 to 7\n",
      "Data columns (total 12 columns):\n",
      " #   Column              Non-Null Count  Dtype  \n",
      "---  ------              --------------  -----  \n",
      " 0   Timestamp           8 non-null      int64  \n",
      " 1   Email Address       8 non-null      object \n",
      " 2   Name                8 non-null      object \n",
      " 3   Email               8 non-null      object \n",
      " 4   Roll no             8 non-null      object \n",
      " 5   PRN No.             8 non-null      object \n",
      " 6   Mobile No.          8 non-null      object \n",
      " 7   First year: Sem 1   8 non-null      int64  \n",
      " 8   First year: Sem 2   8 non-null      float64\n",
      " 9   Second year: Sem 1  8 non-null      float64\n",
      " 10  Second year: Sem 2  8 non-null      float64\n",
      " 11  Unnamed: 11         8 non-null      float64\n",
      "dtypes: float64(4), int64(2), object(6)\n",
      "memory usage: 900.0+ bytes\n"
     ]
    }
   ],
   "source": [
    "data.info()"
   ]
  },
  {
   "cell_type": "code",
   "execution_count": 5,
   "metadata": {},
   "outputs": [
    {
     "data": {
      "text/html": [
       "<div>\n",
       "<style scoped>\n",
       "    .dataframe tbody tr th:only-of-type {\n",
       "        vertical-align: middle;\n",
       "    }\n",
       "\n",
       "    .dataframe tbody tr th {\n",
       "        vertical-align: top;\n",
       "    }\n",
       "\n",
       "    .dataframe thead th {\n",
       "        text-align: right;\n",
       "    }\n",
       "</style>\n",
       "<table border=\"1\" class=\"dataframe\">\n",
       "  <thead>\n",
       "    <tr style=\"text-align: right;\">\n",
       "      <th></th>\n",
       "      <th>Timestamp</th>\n",
       "      <th>First year: Sem 1</th>\n",
       "      <th>First year: Sem 2</th>\n",
       "      <th>Second year: Sem 1</th>\n",
       "      <th>Second year: Sem 2</th>\n",
       "      <th>Unnamed: 11</th>\n",
       "    </tr>\n",
       "  </thead>\n",
       "  <tbody>\n",
       "    <tr>\n",
       "      <th>count</th>\n",
       "      <td>8.000000</td>\n",
       "      <td>8.000000e+00</td>\n",
       "      <td>8.000000</td>\n",
       "      <td>8.000000</td>\n",
       "      <td>8.000000</td>\n",
       "      <td>8.000000</td>\n",
       "    </tr>\n",
       "    <tr>\n",
       "      <th>mean</th>\n",
       "      <td>23.750000</td>\n",
       "      <td>8.427841e+09</td>\n",
       "      <td>6.752500</td>\n",
       "      <td>6.848750</td>\n",
       "      <td>9.160000</td>\n",
       "      <td>9.403750</td>\n",
       "    </tr>\n",
       "    <tr>\n",
       "      <th>std</th>\n",
       "      <td>30.046393</td>\n",
       "      <td>7.939177e+08</td>\n",
       "      <td>2.813141</td>\n",
       "      <td>2.847317</td>\n",
       "      <td>0.378191</td>\n",
       "      <td>0.422575</td>\n",
       "    </tr>\n",
       "    <tr>\n",
       "      <th>min</th>\n",
       "      <td>0.000000</td>\n",
       "      <td>7.387646e+09</td>\n",
       "      <td>0.000000</td>\n",
       "      <td>0.000000</td>\n",
       "      <td>8.530000</td>\n",
       "      <td>8.640000</td>\n",
       "    </tr>\n",
       "    <tr>\n",
       "      <th>25%</th>\n",
       "      <td>1.750000</td>\n",
       "      <td>7.747175e+09</td>\n",
       "      <td>6.940000</td>\n",
       "      <td>7.127500</td>\n",
       "      <td>9.012500</td>\n",
       "      <td>9.185000</td>\n",
       "    </tr>\n",
       "    <tr>\n",
       "      <th>50%</th>\n",
       "      <td>3.500000</td>\n",
       "      <td>8.453223e+09</td>\n",
       "      <td>7.670000</td>\n",
       "      <td>7.795000</td>\n",
       "      <td>9.115000</td>\n",
       "      <td>9.380000</td>\n",
       "    </tr>\n",
       "    <tr>\n",
       "      <th>75%</th>\n",
       "      <td>59.250000</td>\n",
       "      <td>9.012669e+09</td>\n",
       "      <td>8.310000</td>\n",
       "      <td>8.307500</td>\n",
       "      <td>9.352500</td>\n",
       "      <td>9.782500</td>\n",
       "    </tr>\n",
       "    <tr>\n",
       "      <th>max</th>\n",
       "      <td>61.000000</td>\n",
       "      <td>9.657017e+09</td>\n",
       "      <td>8.400000</td>\n",
       "      <td>8.600000</td>\n",
       "      <td>9.800000</td>\n",
       "      <td>9.900000</td>\n",
       "    </tr>\n",
       "  </tbody>\n",
       "</table>\n",
       "</div>"
      ],
      "text/plain": [
       "       Timestamp  First year: Sem 1  First year: Sem 2  Second year: Sem 1   \n",
       "count   8.000000       8.000000e+00           8.000000            8.000000  \\\n",
       "mean   23.750000       8.427841e+09           6.752500            6.848750   \n",
       "std    30.046393       7.939177e+08           2.813141            2.847317   \n",
       "min     0.000000       7.387646e+09           0.000000            0.000000   \n",
       "25%     1.750000       7.747175e+09           6.940000            7.127500   \n",
       "50%     3.500000       8.453223e+09           7.670000            7.795000   \n",
       "75%    59.250000       9.012669e+09           8.310000            8.307500   \n",
       "max    61.000000       9.657017e+09           8.400000            8.600000   \n",
       "\n",
       "       Second year: Sem 2  Unnamed: 11  \n",
       "count            8.000000     8.000000  \n",
       "mean             9.160000     9.403750  \n",
       "std              0.378191     0.422575  \n",
       "min              8.530000     8.640000  \n",
       "25%              9.012500     9.185000  \n",
       "50%              9.115000     9.380000  \n",
       "75%              9.352500     9.782500  \n",
       "max              9.800000     9.900000  "
      ]
     },
     "execution_count": 5,
     "metadata": {},
     "output_type": "execute_result"
    }
   ],
   "source": [
    "data.describe()"
   ]
  },
  {
   "cell_type": "code",
   "execution_count": 13,
   "metadata": {},
   "outputs": [
    {
     "data": {
      "text/plain": [
       "<Axes: xlabel='First year: Sem 1'>"
      ]
     },
     "execution_count": 13,
     "metadata": {},
     "output_type": "execute_result"
    },
    {
     "data": {
      "image/png": "[encoded data removed]",
      "text/plain": [
       "<Figure size 640x480 with 1 Axes>"
      ]
     },
     "metadata": {},
     "output_type": "display_data"
    }
   ],
   "source": [
    "sns.boxplot(x=data['First year: Sem 1'])"
   ]
  },
  {
   "cell_type": "code",
   "execution_count": 9,
   "metadata": {},
   "outputs": [
    {
     "data": {
      "image/png": "[encoded data removed]",
      "text/plain": [
       "<Figure size 640x480 with 1 Axes>"
      ]
     },
     "metadata": {},
     "output_type": "display_data"
    }
   ],
   "source": [
    "sns.boxplot(y=data['First year: Sem 2']);"
   ]
  },
  {
   "cell_type": "code",
   "execution_count": 10,
   "metadata": {},
   "outputs": [
    {
     "data": {
      "text/plain": [
       "<Axes: ylabel='First year: Sem 2'>"
      ]
     },
     "execution_count": 10,
     "metadata": {},
     "output_type": "execute_result"
    },
    {
     "data": {
      "image/png": "[encoded data removed]",
      "text/plain": [
       "<Figure size 640x480 with 1 Axes>"
      ]
     },
     "metadata": {},
     "output_type": "display_data"
    }
   ],
   "source": [
    "sns.boxplot(y=data['First year: Sem 2'])"
   ]
  }
 ],
 "metadata": {
  "kernelspec": {
   "display_name": "Python 3",
   "language": "python",
   "name": "python3"
  },
  "language_info": {
   "codemirror_mode": {
    "name": "ipython",
    "version": 3
   },
   "file_extension": ".py",
   "mimetype": "text/x-python",
   "name": "python",
   "nbconvert_exporter": "python",
   "pygments_lexer": "ipython3",
   "version": "3.11.3"
  },
  "orig_nbformat": 4
 },
 "nbformat": 4,
 "nbformat_minor": 2
}
